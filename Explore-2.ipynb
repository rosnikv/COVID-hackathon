{
 "cells": [
  {
   "cell_type": "code",
   "execution_count": 1,
   "metadata": {},
   "outputs": [],
   "source": [
    "import pandas as pd"
   ]
  },
  {
   "cell_type": "code",
   "execution_count": 2,
   "metadata": {},
   "outputs": [],
   "source": [
    "df_biorxiv = pd.read_csv(\"biorxiv_clean.csv\")\n",
    "df_pmc = pd.read_csv(\"clean_pmc.csv\")\n",
    "df_comm = pd.read_csv(\"clean_comm_use.csv\")\n",
    "df_noncomm = pd.read_csv(\"clean_noncomm_use.csv\")"
   ]
  },
  {
   "cell_type": "code",
   "execution_count": 3,
   "metadata": {},
   "outputs": [
    {
     "data": {
      "text/plain": [
       "13202"
      ]
     },
     "execution_count": 3,
     "metadata": {},
     "output_type": "execute_result"
    }
   ],
   "source": [
    "len(df_biorxiv)+len(df_pmc)+len(df_comm)+len(df_noncomm)"
   ]
  },
  {
   "cell_type": "code",
   "execution_count": 4,
   "metadata": {},
   "outputs": [
    {
     "data": {
      "text/html": [
       "<div>\n",
       "<style scoped>\n",
       "    .dataframe tbody tr th:only-of-type {\n",
       "        vertical-align: middle;\n",
       "    }\n",
       "\n",
       "    .dataframe tbody tr th {\n",
       "        vertical-align: top;\n",
       "    }\n",
       "\n",
       "    .dataframe thead th {\n",
       "        text-align: right;\n",
       "    }\n",
       "</style>\n",
       "<table border=\"1\" class=\"dataframe\">\n",
       "  <thead>\n",
       "    <tr style=\"text-align: right;\">\n",
       "      <th></th>\n",
       "      <th>paper_id</th>\n",
       "      <th>title</th>\n",
       "      <th>authors</th>\n",
       "      <th>affiliations</th>\n",
       "      <th>abstract</th>\n",
       "      <th>text</th>\n",
       "      <th>bibliography</th>\n",
       "      <th>raw_authors</th>\n",
       "      <th>raw_bibliography</th>\n",
       "    </tr>\n",
       "  </thead>\n",
       "  <tbody>\n",
       "    <tr>\n",
       "      <th>0</th>\n",
       "      <td>f905f78b32f63c6d14a79984dfb33f1b358b8ab4</td>\n",
       "      <td>Multimerization of HIV-1 integrase hinges on c...</td>\n",
       "      <td>Meytal Galilee, Akram Alian</td>\n",
       "      <td>Meytal Galilee (Technion -Israel Institute of ...</td>\n",
       "      <td>Abstract\\n\\nNew anti-AIDS treatments must be c...</td>\n",
       "      <td>\\n\\nIn the absence of a curative treatment, th...</td>\n",
       "      <td>HIV drug resistance against strand transfer in...</td>\n",
       "      <td>[{'first': 'Meytal', 'middle': [], 'last': 'Ga...</td>\n",
       "      <td>{'BIBREF0': {'ref_id': 'b0', 'title': 'HIV dru...</td>\n",
       "    </tr>\n",
       "    <tr>\n",
       "      <th>1</th>\n",
       "      <td>abcfffafab399149d4adadd6bb458c4994e2025d</td>\n",
       "      <td>Time-varying transmission dynamics of Novel Co...</td>\n",
       "      <td>Tao Liu, Jianxiong Hu, Jianpeng Xiao, Guanhao ...</td>\n",
       "      <td>Tao Liu, Jianxiong Hu, Jianpeng Xiao, Guanhao ...</td>\n",
       "      <td>Abstract\\n\\nRationale: Several studies have es...</td>\n",
       "      <td>Introduction\\n\\nEighteen years ago, severe acu...</td>\n",
       "      <td>World Health Organization. Summary of probable...</td>\n",
       "      <td>[{'first': 'Tao', 'middle': [], 'last': 'Liu',...</td>\n",
       "      <td>{'BIBREF0': {'ref_id': 'b0', 'title': 'World H...</td>\n",
       "    </tr>\n",
       "    <tr>\n",
       "      <th>2</th>\n",
       "      <td>0cb9c296684ca5e71462d825cab2827854a01544</td>\n",
       "      <td>p53 is not necessary for DUX4 pathology</td>\n",
       "      <td>Darko Bosnakovski, Erik A Toso, Olivia O Recht...</td>\n",
       "      <td>Darko Bosnakovski (Lillehei Heart Institute), ...</td>\n",
       "      <td>Abstract\\n\\nSummary Statement: DUX4 is thought...</td>\n",
       "      <td>Introduction\\n\\nFacioscapulohumeral muscular d...</td>\n",
       "      <td>Trim24 targets endogenous p53 for degradation,...</td>\n",
       "      <td>[{'first': 'Darko', 'middle': [], 'last': 'Bos...</td>\n",
       "      <td>{'BIBREF0': {'ref_id': 'b0', 'title': 'Trim24 ...</td>\n",
       "    </tr>\n",
       "    <tr>\n",
       "      <th>3</th>\n",
       "      <td>9bbfd3d34ee18ea1b9f4669331a6cee9c5992893</td>\n",
       "      <td>Virological assessment of hospitalized cases o...</td>\n",
       "      <td>Roman Wölfel, Victor M Corman, Wolfgang Guggem...</td>\n",
       "      <td>Roman Wölfel, Victor M Corman, Wolfgang Guggem...</td>\n",
       "      <td>Abstract\\n\\nemerged in late 2019 1,2 . Initial...</td>\n",
       "      <td>cases, providing proof of active virus replica...</td>\n",
       "      <td>References (01KI1723A) and the European Union ...</td>\n",
       "      <td>[{'first': 'Roman', 'middle': [], 'last': 'Wöl...</td>\n",
       "      <td>{'BIBREF0': {'ref_id': 'b0', 'title': 'Referen...</td>\n",
       "    </tr>\n",
       "    <tr>\n",
       "      <th>4</th>\n",
       "      <td>1218f278a4f8d83dac14b23c8f698062812ef9d5</td>\n",
       "      <td>Potential impact of seasonal forcing on a SARS...</td>\n",
       "      <td>Richard A Neher, Robert Dyrdak, Valentin Druel...</td>\n",
       "      <td>Richard A Neher (University of Basel, Basel, S...</td>\n",
       "      <td>Abstract\\n\\nA novel coronavirus (SARS-CoV-2) f...</td>\n",
       "      <td>\\n\\n(2.2 with 90% high density interval 1.4-3....</td>\n",
       "      <td>Novel Coronavirus(2019-nCoV) Situation Report ...</td>\n",
       "      <td>[{'first': 'Richard', 'middle': ['A'], 'last':...</td>\n",
       "      <td>{'BIBREF6': {'ref_id': 'b6', 'title': 'Novel C...</td>\n",
       "    </tr>\n",
       "  </tbody>\n",
       "</table>\n",
       "</div>"
      ],
      "text/plain": [
       "                                   paper_id  \\\n",
       "0  f905f78b32f63c6d14a79984dfb33f1b358b8ab4   \n",
       "1  abcfffafab399149d4adadd6bb458c4994e2025d   \n",
       "2  0cb9c296684ca5e71462d825cab2827854a01544   \n",
       "3  9bbfd3d34ee18ea1b9f4669331a6cee9c5992893   \n",
       "4  1218f278a4f8d83dac14b23c8f698062812ef9d5   \n",
       "\n",
       "                                               title  \\\n",
       "0  Multimerization of HIV-1 integrase hinges on c...   \n",
       "1  Time-varying transmission dynamics of Novel Co...   \n",
       "2            p53 is not necessary for DUX4 pathology   \n",
       "3  Virological assessment of hospitalized cases o...   \n",
       "4  Potential impact of seasonal forcing on a SARS...   \n",
       "\n",
       "                                             authors  \\\n",
       "0                        Meytal Galilee, Akram Alian   \n",
       "1  Tao Liu, Jianxiong Hu, Jianpeng Xiao, Guanhao ...   \n",
       "2  Darko Bosnakovski, Erik A Toso, Olivia O Recht...   \n",
       "3  Roman Wölfel, Victor M Corman, Wolfgang Guggem...   \n",
       "4  Richard A Neher, Robert Dyrdak, Valentin Druel...   \n",
       "\n",
       "                                        affiliations  \\\n",
       "0  Meytal Galilee (Technion -Israel Institute of ...   \n",
       "1  Tao Liu, Jianxiong Hu, Jianpeng Xiao, Guanhao ...   \n",
       "2  Darko Bosnakovski (Lillehei Heart Institute), ...   \n",
       "3  Roman Wölfel, Victor M Corman, Wolfgang Guggem...   \n",
       "4  Richard A Neher (University of Basel, Basel, S...   \n",
       "\n",
       "                                            abstract  \\\n",
       "0  Abstract\\n\\nNew anti-AIDS treatments must be c...   \n",
       "1  Abstract\\n\\nRationale: Several studies have es...   \n",
       "2  Abstract\\n\\nSummary Statement: DUX4 is thought...   \n",
       "3  Abstract\\n\\nemerged in late 2019 1,2 . Initial...   \n",
       "4  Abstract\\n\\nA novel coronavirus (SARS-CoV-2) f...   \n",
       "\n",
       "                                                text  \\\n",
       "0  \\n\\nIn the absence of a curative treatment, th...   \n",
       "1  Introduction\\n\\nEighteen years ago, severe acu...   \n",
       "2  Introduction\\n\\nFacioscapulohumeral muscular d...   \n",
       "3  cases, providing proof of active virus replica...   \n",
       "4  \\n\\n(2.2 with 90% high density interval 1.4-3....   \n",
       "\n",
       "                                        bibliography  \\\n",
       "0  HIV drug resistance against strand transfer in...   \n",
       "1  World Health Organization. Summary of probable...   \n",
       "2  Trim24 targets endogenous p53 for degradation,...   \n",
       "3  References (01KI1723A) and the European Union ...   \n",
       "4  Novel Coronavirus(2019-nCoV) Situation Report ...   \n",
       "\n",
       "                                         raw_authors  \\\n",
       "0  [{'first': 'Meytal', 'middle': [], 'last': 'Ga...   \n",
       "1  [{'first': 'Tao', 'middle': [], 'last': 'Liu',...   \n",
       "2  [{'first': 'Darko', 'middle': [], 'last': 'Bos...   \n",
       "3  [{'first': 'Roman', 'middle': [], 'last': 'Wöl...   \n",
       "4  [{'first': 'Richard', 'middle': ['A'], 'last':...   \n",
       "\n",
       "                                    raw_bibliography  \n",
       "0  {'BIBREF0': {'ref_id': 'b0', 'title': 'HIV dru...  \n",
       "1  {'BIBREF0': {'ref_id': 'b0', 'title': 'World H...  \n",
       "2  {'BIBREF0': {'ref_id': 'b0', 'title': 'Trim24 ...  \n",
       "3  {'BIBREF0': {'ref_id': 'b0', 'title': 'Referen...  \n",
       "4  {'BIBREF6': {'ref_id': 'b6', 'title': 'Novel C...  "
      ]
     },
     "execution_count": 4,
     "metadata": {},
     "output_type": "execute_result"
    }
   ],
   "source": [
    "df_biorxiv.head()"
   ]
  },
  {
   "cell_type": "code",
   "execution_count": 5,
   "metadata": {},
   "outputs": [],
   "source": [
    "all_text = pd.concat([df_biorxiv,df_pmc,df_comm,df_noncomm],ignore_index=True)"
   ]
  },
  {
   "cell_type": "code",
   "execution_count": 6,
   "metadata": {},
   "outputs": [
    {
     "data": {
      "text/plain": [
       "13202"
      ]
     },
     "execution_count": 6,
     "metadata": {},
     "output_type": "execute_result"
    }
   ],
   "source": [
    "len(all_text)"
   ]
  },
  {
   "cell_type": "markdown",
   "metadata": {},
   "source": [
    "### Publish Time distribution"
   ]
  },
  {
   "cell_type": "code",
   "execution_count": 7,
   "metadata": {},
   "outputs": [
    {
     "data": {
      "text/html": [
       "<div>\n",
       "<style scoped>\n",
       "    .dataframe tbody tr th:only-of-type {\n",
       "        vertical-align: middle;\n",
       "    }\n",
       "\n",
       "    .dataframe tbody tr th {\n",
       "        vertical-align: top;\n",
       "    }\n",
       "\n",
       "    .dataframe thead th {\n",
       "        text-align: right;\n",
       "    }\n",
       "</style>\n",
       "<table border=\"1\" class=\"dataframe\">\n",
       "  <thead>\n",
       "    <tr style=\"text-align: right;\">\n",
       "      <th></th>\n",
       "      <th>sha</th>\n",
       "      <th>source_x</th>\n",
       "      <th>title</th>\n",
       "      <th>doi</th>\n",
       "      <th>pmcid</th>\n",
       "      <th>pubmed_id</th>\n",
       "      <th>license</th>\n",
       "      <th>abstract</th>\n",
       "      <th>publish_time</th>\n",
       "      <th>authors</th>\n",
       "      <th>journal</th>\n",
       "      <th>Microsoft Academic Paper ID</th>\n",
       "      <th>WHO #Covidence</th>\n",
       "      <th>has_full_text</th>\n",
       "    </tr>\n",
       "  </thead>\n",
       "  <tbody>\n",
       "    <tr>\n",
       "      <th>0</th>\n",
       "      <td>c630ebcdf30652f0422c3ec12a00b50241dc9bd9</td>\n",
       "      <td>CZI</td>\n",
       "      <td>Angiotensin-converting enzyme 2 (ACE2) as a SA...</td>\n",
       "      <td>10.1007/s00134-020-05985-9</td>\n",
       "      <td>NaN</td>\n",
       "      <td>32125455.0</td>\n",
       "      <td>cc-by-nc</td>\n",
       "      <td>NaN</td>\n",
       "      <td>2020</td>\n",
       "      <td>Zhang, Haibo; Penninger, Josef M.; Li, Yimin; ...</td>\n",
       "      <td>Intensive Care Med</td>\n",
       "      <td>2.002765e+09</td>\n",
       "      <td>#3252</td>\n",
       "      <td>True</td>\n",
       "    </tr>\n",
       "    <tr>\n",
       "      <th>1</th>\n",
       "      <td>53eccda7977a31e3d0f565c884da036b1e85438e</td>\n",
       "      <td>CZI</td>\n",
       "      <td>Comparative genetic analysis of the novel coro...</td>\n",
       "      <td>10.1038/s41421-020-0147-1</td>\n",
       "      <td>NaN</td>\n",
       "      <td>NaN</td>\n",
       "      <td>cc-by</td>\n",
       "      <td>NaN</td>\n",
       "      <td>2020</td>\n",
       "      <td>Cao, Yanan; Li, Lin; Feng, Zhimin; Wan, Shengq...</td>\n",
       "      <td>Cell Discovery</td>\n",
       "      <td>3.003431e+09</td>\n",
       "      <td>#1861</td>\n",
       "      <td>True</td>\n",
       "    </tr>\n",
       "    <tr>\n",
       "      <th>2</th>\n",
       "      <td>210a892deb1c61577f6fba58505fd65356ce6636</td>\n",
       "      <td>CZI</td>\n",
       "      <td>Incubation Period and Other Epidemiological Ch...</td>\n",
       "      <td>10.3390/jcm9020538</td>\n",
       "      <td>NaN</td>\n",
       "      <td>NaN</td>\n",
       "      <td>cc-by</td>\n",
       "      <td>The geographic spread of 2019 novel coronaviru...</td>\n",
       "      <td>2020</td>\n",
       "      <td>Linton, M. Natalie; Kobayashi, Tetsuro; Yang, ...</td>\n",
       "      <td>Journal of Clinical Medicine</td>\n",
       "      <td>3.006065e+09</td>\n",
       "      <td>#1043</td>\n",
       "      <td>True</td>\n",
       "    </tr>\n",
       "    <tr>\n",
       "      <th>3</th>\n",
       "      <td>e3b40cc8e0e137c416b4a2273a4dca94ae8178cc</td>\n",
       "      <td>CZI</td>\n",
       "      <td>Characteristics of and Public Health Responses...</td>\n",
       "      <td>10.3390/jcm9020575</td>\n",
       "      <td>NaN</td>\n",
       "      <td>32093211.0</td>\n",
       "      <td>cc-by</td>\n",
       "      <td>In December 2019, cases of unidentified pneumo...</td>\n",
       "      <td>2020</td>\n",
       "      <td>Deng, Sheng-Qun; Peng, Hong-Juan</td>\n",
       "      <td>J Clin Med</td>\n",
       "      <td>1.776631e+08</td>\n",
       "      <td>#1999</td>\n",
       "      <td>True</td>\n",
       "    </tr>\n",
       "    <tr>\n",
       "      <th>4</th>\n",
       "      <td>92c2c9839304b4f2bc1276d41b1aa885d8b364fd</td>\n",
       "      <td>CZI</td>\n",
       "      <td>Imaging changes in severe COVID-19 pneumonia</td>\n",
       "      <td>10.1007/s00134-020-05976-w</td>\n",
       "      <td>NaN</td>\n",
       "      <td>32125453.0</td>\n",
       "      <td>cc-by-nc</td>\n",
       "      <td>NaN</td>\n",
       "      <td>2020</td>\n",
       "      <td>Zhang, Wei</td>\n",
       "      <td>Intensive Care Med</td>\n",
       "      <td>3.006643e+09</td>\n",
       "      <td>#3242</td>\n",
       "      <td>False</td>\n",
       "    </tr>\n",
       "  </tbody>\n",
       "</table>\n",
       "</div>"
      ],
      "text/plain": [
       "                                        sha source_x  \\\n",
       "0  c630ebcdf30652f0422c3ec12a00b50241dc9bd9      CZI   \n",
       "1  53eccda7977a31e3d0f565c884da036b1e85438e      CZI   \n",
       "2  210a892deb1c61577f6fba58505fd65356ce6636      CZI   \n",
       "3  e3b40cc8e0e137c416b4a2273a4dca94ae8178cc      CZI   \n",
       "4  92c2c9839304b4f2bc1276d41b1aa885d8b364fd      CZI   \n",
       "\n",
       "                                               title  \\\n",
       "0  Angiotensin-converting enzyme 2 (ACE2) as a SA...   \n",
       "1  Comparative genetic analysis of the novel coro...   \n",
       "2  Incubation Period and Other Epidemiological Ch...   \n",
       "3  Characteristics of and Public Health Responses...   \n",
       "4       Imaging changes in severe COVID-19 pneumonia   \n",
       "\n",
       "                          doi pmcid   pubmed_id   license  \\\n",
       "0  10.1007/s00134-020-05985-9   NaN  32125455.0  cc-by-nc   \n",
       "1   10.1038/s41421-020-0147-1   NaN         NaN     cc-by   \n",
       "2          10.3390/jcm9020538   NaN         NaN     cc-by   \n",
       "3          10.3390/jcm9020575   NaN  32093211.0     cc-by   \n",
       "4  10.1007/s00134-020-05976-w   NaN  32125453.0  cc-by-nc   \n",
       "\n",
       "                                            abstract publish_time  \\\n",
       "0                                                NaN         2020   \n",
       "1                                                NaN         2020   \n",
       "2  The geographic spread of 2019 novel coronaviru...         2020   \n",
       "3  In December 2019, cases of unidentified pneumo...         2020   \n",
       "4                                                NaN         2020   \n",
       "\n",
       "                                             authors  \\\n",
       "0  Zhang, Haibo; Penninger, Josef M.; Li, Yimin; ...   \n",
       "1  Cao, Yanan; Li, Lin; Feng, Zhimin; Wan, Shengq...   \n",
       "2  Linton, M. Natalie; Kobayashi, Tetsuro; Yang, ...   \n",
       "3                   Deng, Sheng-Qun; Peng, Hong-Juan   \n",
       "4                                         Zhang, Wei   \n",
       "\n",
       "                        journal  Microsoft Academic Paper ID WHO #Covidence  \\\n",
       "0            Intensive Care Med                 2.002765e+09          #3252   \n",
       "1                Cell Discovery                 3.003431e+09          #1861   \n",
       "2  Journal of Clinical Medicine                 3.006065e+09          #1043   \n",
       "3                    J Clin Med                 1.776631e+08          #1999   \n",
       "4            Intensive Care Med                 3.006643e+09          #3242   \n",
       "\n",
       "  has_full_text  \n",
       "0          True  \n",
       "1          True  \n",
       "2          True  \n",
       "3          True  \n",
       "4         False  "
      ]
     },
     "execution_count": 7,
     "metadata": {},
     "output_type": "execute_result"
    }
   ],
   "source": [
    "df_meta = pd.read_csv(\"2020-03-13/all_sources_metadata_2020-03-13.csv\")\n",
    "\n",
    "df_meta.head()"
   ]
  },
  {
   "cell_type": "code",
   "execution_count": 8,
   "metadata": {},
   "outputs": [],
   "source": [
    "from matplotlib import pyplot as plt\n",
    "%matplotlib inline\n",
    "\n",
    "publish_time = []"
   ]
  },
  {
   "cell_type": "code",
   "execution_count": 9,
   "metadata": {},
   "outputs": [],
   "source": [
    "import re\n",
    "\n",
    "for i in list(df_meta['publish_time']):\n",
    "    #print(i)\n",
    "    publish_time.append(re.split('[- ]',str(i))[0]) "
   ]
  },
  {
   "cell_type": "code",
   "execution_count": 10,
   "metadata": {},
   "outputs": [
    {
     "data": {
      "image/png": "[encoded data removed]",
      "text/plain": [
       "<Figure size 1296x288 with 1 Axes>"
      ]
     },
     "metadata": {
      "needs_background": "light"
     },
     "output_type": "display_data"
    }
   ],
   "source": [
    "from collections import Counter\n",
    "\n",
    "publish_year = Counter(publish_time)\n",
    "fig = plt.figure(figsize=(18,4))\n",
    "p = plt.bar(publish_year.keys(), publish_year.values())\n",
    "plt.xticks(rotation='vertical')\n",
    "plt.show()"
   ]
  },
  {
   "cell_type": "markdown",
   "metadata": {},
   "source": [
    "### All text for topic modelling"
   ]
  },
  {
   "cell_type": "code",
   "execution_count": 11,
   "metadata": {},
   "outputs": [],
   "source": [
    "import gensim"
   ]
  },
  {
   "cell_type": "code",
   "execution_count": 12,
   "metadata": {},
   "outputs": [],
   "source": [
    "def sent_to_words(sentences):\n",
    "    for sentence in sentences:\n",
    "        yield(gensim.utils.simple_preprocess(str(sentence), deacc=True))  \n",
    "        \n",
    "data = list(sent_to_words(df_biorxiv['abstract']))"
   ]
  },
  {
   "cell_type": "code",
   "execution_count": 13,
   "metadata": {},
   "outputs": [],
   "source": [
    "from gensim.models import Word2Vec"
   ]
  },
  {
   "cell_type": "code",
   "execution_count": 14,
   "metadata": {},
   "outputs": [],
   "source": [
    "model = Word2Vec(data, size=100, window=5, min_count=1, workers=4)"
   ]
  },
  {
   "cell_type": "code",
   "execution_count": 15,
   "metadata": {},
   "outputs": [],
   "source": [
    "word_vectors = model.wv"
   ]
  },
  {
   "cell_type": "code",
   "execution_count": 16,
   "metadata": {},
   "outputs": [],
   "source": [
    "from gensim.test.utils import get_tmpfile\n",
    "from gensim.models import KeyedVectors\n",
    "\n",
    "fname = get_tmpfile(\"vectors.kv\")\n",
    "word_vectors.save(fname)\n",
    "word_vectors = KeyedVectors.load(fname, mmap='r')"
   ]
  },
  {
   "cell_type": "code",
   "execution_count": 17,
   "metadata": {},
   "outputs": [],
   "source": [
    "similarity = word_vectors.wmdistance(data[0], data[1])"
   ]
  },
  {
   "cell_type": "code",
   "execution_count": 18,
   "metadata": {},
   "outputs": [
    {
     "name": "stdout",
     "output_type": "stream",
     "text": [
      "1.6015\n"
     ]
    }
   ],
   "source": [
    "print(\"{:.4f}\".format(similarity))"
   ]
  },
  {
   "cell_type": "code",
   "execution_count": 170,
   "metadata": {},
   "outputs": [
    {
     "name": "stdout",
     "output_type": "stream",
     "text": [
      "0.0000\n"
     ]
    }
   ],
   "source": [
    "similarity = word_vectors.wmdistance(data[0], data[0])\n",
    "print(\"{:.4f}\".format(similarity))"
   ]
  },
  {
   "cell_type": "code",
   "execution_count": null,
   "metadata": {},
   "outputs": [],
   "source": [
    "\n",
    "with open('result_wordvector.txt', 'a') as file_:\n",
    "    for i in range(len(data)):   \n",
    "        for j in range(i+1, len(data)):\n",
    "            file_.write(str(i)+\",\"+str(j)+\",\"+ str(word_vectors.wmdistance(data[i], data[j]))+\"\\n\")\n"
   ]
  },
  {
   "cell_type": "code",
   "execution_count": 24,
   "metadata": {},
   "outputs": [],
   "source": [
    "from gensim.models.doc2vec import Doc2Vec, TaggedDocument\n",
    "\n",
    "documents = [TaggedDocument(doc, [i]) for i, doc in enumerate(data)]\n",
    "model = Doc2Vec(documents, vector_size=5, window=2, min_count=1, workers=4)\n",
    "\n",
    "#from gensim.test.utils import get_tmpfile\n",
    "#fname = get_tmpfile(\"my_doc2vec_model\")\n",
    "#model.save(fname)\n",
    "#model = Doc2Vec.load(fname)"
   ]
  },
  {
   "cell_type": "code",
   "execution_count": 22,
   "metadata": {},
   "outputs": [],
   "source": [
    "from scipy import spatial\n",
    "\n",
    "vec1 = model.infer_vector(data[0])\n",
    "vec2 = model.infer_vector(data[1])\n",
    "\n",
    "similairty = spatial.distance.cosine(vec1, vec2)"
   ]
  },
  {
   "cell_type": "code",
   "execution_count": 25,
   "metadata": {},
   "outputs": [],
   "source": [
    "with open('result_docvector.txt', 'a') as f_:\n",
    "    for i in range(len(data)): \n",
    "        vec1 = model.infer_vector(data[i])\n",
    "        for j in range(i+1, len(data)):\n",
    "            vec2 = model.infer_vector(data[j])\n",
    "            f_.write(str(i)+\",\"+str(j)+\",\"+ str(spatial.distance.cosine(vec1, vec2))+\"\\n\")"
   ]
  },
  {
   "cell_type": "code",
   "execution_count": 65,
   "metadata": {},
   "outputs": [],
   "source": [
    "docvec = pd.read_csv(\"result_docvector.txt\", header=None)\n",
    "import numpy as np\n",
    "\n",
    "neighbors = {}\n",
    "for i in range(len(data)):\n",
    "    neighbors[i] = []\n",
    "    #np.argsort(list(docvec[docvec[0]==i][2]))[:10]\n",
    "    zipped = list(zip(docvec[docvec[0]==i][1],docvec[docvec[0]==i][2]))\n",
    "    res = sorted(zipped, key = lambda x: x[1])\n",
    "    neighbors[i] = [p for p,q in res[:10]]"
   ]
  },
  {
   "cell_type": "code",
   "execution_count": 66,
   "metadata": {},
   "outputs": [],
   "source": [
    "links = []\n",
    "\n",
    "for k in neighbors.keys():\n",
    "    for v in neighbors[k]:\n",
    "        links.append({'source':k,'target':v})\n",
    "        "
   ]
  },
  {
   "cell_type": "code",
   "execution_count": 70,
   "metadata": {},
   "outputs": [],
   "source": [
    "club = [ 'Mr. Hi','Officer']\n",
    "color = ['purple','orange']\n",
    "size = [i for i in range(15)]\n",
    "import random\n",
    "\n",
    "nodes = []\n",
    "for k in neighbors.keys():\n",
    "    nodes.append({'club':random.choice(club), 'color':random.choice(color), 'id':k, 'size': random.choice(size)})"
   ]
  },
  {
   "cell_type": "code",
   "execution_count": 72,
   "metadata": {},
   "outputs": [],
   "source": [
    "#nodes"
   ]
  },
  {
   "cell_type": "code",
   "execution_count": 73,
   "metadata": {},
   "outputs": [],
   "source": [
    "#links\n",
    "graph = {'directed': False,\n",
    " 'graph': {'name': \"Zachary's Karate Club\"},\n",
    " 'links': links,\n",
    "    'multigraph': False,\n",
    " 'nodes': nodes}"
   ]
  },
  {
   "cell_type": "code",
   "execution_count": 75,
   "metadata": {},
   "outputs": [
    {
     "name": "stdout",
     "output_type": "stream",
     "text": [
      "\n",
      "Note: if you're in the IPython notebook, mpld3.show() is not the best command\n",
      "      to use. Consider using mpld3.display(), or mpld3.enable_notebook().\n",
      "      See more information at http://mpld3.github.io/quickstart.html .\n",
      "\n",
      "You must interrupt the kernel to end this command\n",
      "\n",
      "Serving to http://127.0.0.1:8889/    [Ctrl-C to exit]\n"
     ]
    },
    {
     "name": "stderr",
     "output_type": "stream",
     "text": [
      "127.0.0.1 - - [29/Mar/2020 22:00:46] \"GET / HTTP/1.1\" 200 -\n",
      "127.0.0.1 - - [29/Mar/2020 22:00:46] \"GET /d3.js HTTP/1.1\" 200 -\n",
      "127.0.0.1 - - [29/Mar/2020 22:00:46] \"GET /mpld3.js HTTP/1.1\" 200 -\n"
     ]
    },
    {
     "name": "stdout",
     "output_type": "stream",
     "text": [
      "\n",
      "stopping Server...\n"
     ]
    },
    {
     "data": {
      "image/png": "[encoded data removed]",
      "text/plain": [
       "<Figure size 720x720 with 1 Axes>"
      ]
     },
     "metadata": {
      "needs_background": "light"
     },
     "output_type": "display_data"
    }
   ],
   "source": [
    "import mpld3\n",
    "\n",
    "\n",
    "class NetworkXD3ForceLayout(mpld3.plugins.PluginBase):\n",
    "    \"\"\"A NetworkX to D3 Force Layout Plugin\"\"\"\n",
    "\n",
    "    JAVASCRIPT = \"\"\"\n",
    "    mpld3.register_plugin(\"networkxd3forcelayout\", NetworkXD3ForceLayoutPlugin);\n",
    "    NetworkXD3ForceLayoutPlugin.prototype = Object.create(mpld3.Plugin.prototype);\n",
    "    NetworkXD3ForceLayoutPlugin.prototype.constructor = NetworkXD3ForceLayoutPlugin;\n",
    "    NetworkXD3ForceLayoutPlugin.prototype.requiredProps = [\"graph\",\n",
    "                                                                \"ax_id\",];\n",
    "    NetworkXD3ForceLayoutPlugin.prototype.defaultProps = { coordinates: \"data\",\n",
    "                                                               gravity: 1,\n",
    "                                                               charge: -30,\n",
    "                                                               link_strength: 1,\n",
    "                                                               friction: 0.9,\n",
    "                                                               link_distance: 20,\n",
    "                                                               maximum_stroke_width: 2,\n",
    "                                                               minimum_stroke_width: 1,\n",
    "                                                               nominal_stroke_width: 1,\n",
    "                                                               maximum_radius: 10,\n",
    "                                                               minimum_radius: 1,\n",
    "                                                               nominal_radius: 5,\n",
    "                                                            };\n",
    "    function NetworkXD3ForceLayoutPlugin(fig, props){\n",
    "        mpld3.Plugin.call(this, fig, props);\n",
    "    };\n",
    "    var color = d3.scale.category20();\n",
    "    NetworkXD3ForceLayoutPlugin.prototype.zoomScaleProp = function (nominal_prop, minimum_prop, maximum_prop) {\n",
    "        var zoom = this.ax.zoom;\n",
    "        scalerFunction = function() {\n",
    "            var prop = nominal_prop;\n",
    "            if (nominal_prop*zoom.scale()>maximum_prop) prop = maximum_prop/zoom.scale();\n",
    "            if (nominal_prop*zoom.scale()<minimum_prop) prop = minimum_prop/zoom.scale();\n",
    "            return prop\n",
    "        }\n",
    "        return scalerFunction;\n",
    "    }\n",
    "    NetworkXD3ForceLayoutPlugin.prototype.setupDefaults = function () {\n",
    "        this.zoomScaleStroke = this.zoomScaleProp(this.props.nominal_stroke_width,\n",
    "                                                  this.props.minimum_stroke_width,\n",
    "                                                  this.props.maximum_stroke_width)\n",
    "        this.zoomScaleRadius = this.zoomScaleProp(this.props.nominal_radius,\n",
    "                                                  this.props.minimum_radius,\n",
    "                                                  this.props.maximum_radius)\n",
    "    }\n",
    "    NetworkXD3ForceLayoutPlugin.prototype.zoomed = function() {\n",
    "            this.tick()\n",
    "        }\n",
    "    NetworkXD3ForceLayoutPlugin.prototype.draw = function(){\n",
    "        plugin = this\n",
    "        brush = this.fig.getBrush();\n",
    "        DEFAULT_NODE_SIZE = this.props.nominal_radius;\n",
    "        var height = this.fig.height\n",
    "        var width = this.fig.width\n",
    "        var graph = this.props.graph\n",
    "        var gravity = this.props.gravity.toFixed()\n",
    "        var charge = this.props.charge.toFixed()\n",
    "        var link_distance = this.props.link_distance.toFixed()\n",
    "        var link_strength = this.props.link_strength.toFixed()\n",
    "        var friction = this.props.friction.toFixed()\n",
    "        this.ax = mpld3.get_element(this.props.ax_id, this.fig)\n",
    "        var ax = this.ax;\n",
    "        this.ax.elements.push(this)\n",
    "        ax_obj = this.ax;\n",
    "        var width = d3.max(ax.x.range()) - d3.min(ax.x.range()),\n",
    "            height = d3.max(ax.y.range()) - d3.min(ax.y.range());\n",
    "        var color = d3.scale.category20();\n",
    "        this.xScale = d3.scale.linear().domain([0, 1]).range([0, width]) // ax.x;\n",
    "        this.yScale = d3.scale.linear().domain([0, 1]).range([height, 0]) // ax.y;\n",
    "        this.force = d3.layout.force()\n",
    "                            .size([width, height]);\n",
    "        this.svg = this.ax.axes.append(\"g\");\n",
    "        for(var i = 0; i < graph.nodes.length; i++){\n",
    "            var node = graph.nodes[i];\n",
    "            if (node.hasOwnProperty('x')) {\n",
    "                node.x = this.ax.x(node.x);\n",
    "            }\n",
    "            if (node.hasOwnProperty('y')) {\n",
    "                node.y = this.ax.y(node.y);\n",
    "            }\n",
    "        }\n",
    "        this.force\n",
    "            .nodes(graph.nodes)\n",
    "            .links(graph.links)\n",
    "            .linkStrength(link_strength)\n",
    "            .friction(friction)\n",
    "            .linkDistance(link_distance)\n",
    "            .charge(charge)\n",
    "            .gravity(gravity)\n",
    "            .start();\n",
    "        this.link = this.svg.selectAll(\".link\")\n",
    "            .data(graph.links)\n",
    "          .enter().append(\"line\")\n",
    "            .attr(\"class\", \"link\")\n",
    "            .attr(\"stroke\", \"black\")\n",
    "            .style(\"stroke-width\", function (d) { return Math.sqrt(d.value); });\n",
    "        this.node = this.svg.selectAll(\".node\")\n",
    "            .data(graph.nodes)\n",
    "          .enter().append(\"circle\")\n",
    "            .attr(\"class\", \"node\")\n",
    "            .attr(\"r\", function(d) {return d.size === undefined ? DEFAULT_NODE_SIZE : d.size ;})\n",
    "            .style(\"fill\", function (d) { return d.color; });\n",
    "        this.node.append(\"title\")\n",
    "            .text(function (d) { return d.name; });\n",
    "        this.force.on(\"tick\", this.tick.bind(this));\n",
    "        this.setupDefaults()\n",
    "    };\n",
    "    NetworkXD3ForceLayoutPlugin.prototype.tick = function() {\n",
    "        this.link.attr(\"x1\", function (d) { return this.ax.x(this.xScale.invert(d.source.x)); }.bind(this))\n",
    "                 .attr(\"y1\", function (d) { return this.ax.y(this.yScale.invert(d.source.y)); }.bind(this))\n",
    "                 .attr(\"x2\", function (d) { return this.ax.x(this.xScale.invert(d.target.x)); }.bind(this))\n",
    "                 .attr(\"y2\", function (d) { return this.ax.y(this.yScale.invert(d.target.y)); }.bind(this));\n",
    "        this.node.attr(\"transform\", function (d) {\n",
    "            return \"translate(\" + this.ax.x(this.xScale.invert(d.x)) + \",\" + this.ax.y(this.yScale.invert(d.y)) + \")\";\n",
    "            }.bind(this)\n",
    "        );\n",
    "    }\n",
    "    \"\"\"\n",
    "\n",
    "    def __init__(self, graph, ax,\n",
    "                 gravity=1,\n",
    "                 link_distance=20,\n",
    "                 charge=-30,\n",
    "                 node_size=5,\n",
    "                 link_strength=1,\n",
    "                 friction=0.9):\n",
    "\n",
    "        self.dict_ = {\"type\": \"networkxd3forcelayout\",\n",
    "                      \"graph\": graph,\n",
    "                      \"ax_id\": mpld3.utils.get_id(ax),\n",
    "                      \"gravity\": gravity,\n",
    "                      \"charge\": charge,\n",
    "                      \"friction\": friction,\n",
    "                      \"link_distance\": link_distance,\n",
    "                      \"link_strength\": link_strength,\n",
    "                      \"nominal_radius\": node_size}\n",
    "\n",
    "import matplotlib.pyplot as plt\n",
    "\n",
    "fig, axs = plt.subplots(1, 1, figsize=(10, 10))\n",
    "ax = axs\n",
    "\n",
    "mpld3.plugins.connect(fig, NetworkXD3ForceLayout(graph,\n",
    "                                                 ax,\n",
    "                                                 gravity=.5,\n",
    "                                                 link_distance=20,\n",
    "                                                 charge=-600,\n",
    "                                                 friction=1\n",
    "                                                )\n",
    "                     )\n",
    "\n",
    "mpld3.show()"
   ]
  },
  {
   "cell_type": "code",
   "execution_count": null,
   "metadata": {},
   "outputs": [],
   "source": []
  }
 ],
 "metadata": {
  "kernelspec": {
   "display_name": "Python 3",
   "language": "python",
   "name": "python3"
  },
  "language_info": {
   "codemirror_mode": {
    "name": "ipython",
    "version": 3
   },
   "file_extension": ".py",
   "mimetype": "text/x-python",
   "name": "python",
   "nbconvert_exporter": "python",
   "pygments_lexer": "ipython3",
   "version": "3.7.6"
  }
 },
 "nbformat": 4,
 "nbformat_minor": 4
}
